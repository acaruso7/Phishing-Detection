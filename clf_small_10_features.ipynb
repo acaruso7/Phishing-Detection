{
 "cells": [
  {
   "cell_type": "markdown",
   "metadata": {},
   "source": [
    "# Phishing Detection (Using small dataset of only ~1200 observations)\n",
    "\n",
    "Dataset & Info: http://archive.ics.uci.edu/ml/datasets/Website+Phishing\n",
    "<br>\n",
    "<br>\n",
    "Each row represents a website. The features represents characteristics of websites that are useful for detecting phishing, where 1 indicates legitimacy, 0 indicates suspicion, and -1 indicates phishing"
   ]
  },
  {
   "cell_type": "code",
   "execution_count": 1,
   "metadata": {},
   "outputs": [
    {
     "name": "stderr",
     "output_type": "stream",
     "text": [
      "C:\\Anaconda\\lib\\site-packages\\sklearn\\cross_validation.py:41: DeprecationWarning: This module was deprecated in version 0.18 in favor of the model_selection module into which all the refactored classes and functions are moved. Also note that the interface of the new CV iterators are different from that of this module. This module will be removed in 0.20.\n",
      "  \"This module will be removed in 0.20.\", DeprecationWarning)\n"
     ]
    }
   ],
   "source": [
    "import pandas as pd\n",
    "import numpy as np\n",
    "import seaborn as sns\n",
    "import matplotlib.pyplot as plt\n",
    "from matplotlib import pyplot\n",
    "plt.rcParams[\"figure.figsize\"] = (10,6)\n",
    "\n",
    "from sklearn.cross_validation import train_test_split\n",
    "from sklearn.model_selection import cross_validate\n",
    "from sklearn.model_selection import cross_val_predict\n",
    "\n",
    "from sklearn.tree import DecisionTreeClassifier\n",
    "from sklearn.ensemble import RandomForestClassifier\n",
    "from sklearn.neighbors import KNeighborsClassifier\n",
    "from sklearn.linear_model import LogisticRegression\n",
    "\n",
    "from sklearn import metrics\n",
    "from sklearn.metrics import confusion_matrix\n",
    "from sklearn.metrics import classification_report\n",
    "from sklearn.metrics import roc_curve\n",
    "from sklearn.metrics import roc_auc_score"
   ]
  },
  {
   "cell_type": "markdown",
   "metadata": {},
   "source": [
    "## Raw Data (1 = legitimate, 0 = suspicious, -1 = phishing)"
   ]
  },
  {
   "cell_type": "code",
   "execution_count": 13,
   "metadata": {},
   "outputs": [
    {
     "data": {
      "text/html": [
       "<div>\n",
       "<style scoped>\n",
       "    .dataframe tbody tr th:only-of-type {\n",
       "        vertical-align: middle;\n",
       "    }\n",
       "\n",
       "    .dataframe tbody tr th {\n",
       "        vertical-align: top;\n",
       "    }\n",
       "\n",
       "    .dataframe thead th {\n",
       "        text-align: right;\n",
       "    }\n",
       "</style>\n",
       "<table border=\"1\" class=\"dataframe\">\n",
       "  <thead>\n",
       "    <tr style=\"text-align: right;\">\n",
       "      <th></th>\n",
       "      <th>SFH</th>\n",
       "      <th>popUpWindow</th>\n",
       "      <th>SSLfinal_State</th>\n",
       "      <th>Request_URL</th>\n",
       "      <th>URL_of_Anchor</th>\n",
       "      <th>web_traffic</th>\n",
       "      <th>URL_Length</th>\n",
       "      <th>age_of_domain</th>\n",
       "      <th>having_IP_Address</th>\n",
       "      <th>Result</th>\n",
       "    </tr>\n",
       "  </thead>\n",
       "  <tbody>\n",
       "    <tr>\n",
       "      <th>0</th>\n",
       "      <td>-1</td>\n",
       "      <td>-1</td>\n",
       "      <td>-1</td>\n",
       "      <td>-1</td>\n",
       "      <td>-1</td>\n",
       "      <td>0</td>\n",
       "      <td>1</td>\n",
       "      <td>1</td>\n",
       "      <td>1</td>\n",
       "      <td>1</td>\n",
       "    </tr>\n",
       "    <tr>\n",
       "      <th>1</th>\n",
       "      <td>1</td>\n",
       "      <td>-1</td>\n",
       "      <td>0</td>\n",
       "      <td>0</td>\n",
       "      <td>-1</td>\n",
       "      <td>0</td>\n",
       "      <td>-1</td>\n",
       "      <td>1</td>\n",
       "      <td>0</td>\n",
       "      <td>1</td>\n",
       "    </tr>\n",
       "    <tr>\n",
       "      <th>2</th>\n",
       "      <td>1</td>\n",
       "      <td>0</td>\n",
       "      <td>1</td>\n",
       "      <td>-1</td>\n",
       "      <td>-1</td>\n",
       "      <td>0</td>\n",
       "      <td>1</td>\n",
       "      <td>1</td>\n",
       "      <td>0</td>\n",
       "      <td>0</td>\n",
       "    </tr>\n",
       "    <tr>\n",
       "      <th>3</th>\n",
       "      <td>-1</td>\n",
       "      <td>-1</td>\n",
       "      <td>1</td>\n",
       "      <td>-1</td>\n",
       "      <td>0</td>\n",
       "      <td>0</td>\n",
       "      <td>-1</td>\n",
       "      <td>1</td>\n",
       "      <td>0</td>\n",
       "      <td>1</td>\n",
       "    </tr>\n",
       "    <tr>\n",
       "      <th>4</th>\n",
       "      <td>-1</td>\n",
       "      <td>-1</td>\n",
       "      <td>1</td>\n",
       "      <td>-1</td>\n",
       "      <td>-1</td>\n",
       "      <td>1</td>\n",
       "      <td>0</td>\n",
       "      <td>-1</td>\n",
       "      <td>0</td>\n",
       "      <td>1</td>\n",
       "    </tr>\n",
       "  </tbody>\n",
       "</table>\n",
       "</div>"
      ],
      "text/plain": [
       "   SFH  popUpWindow  SSLfinal_State  Request_URL  URL_of_Anchor  web_traffic  \\\n",
       "0   -1           -1              -1           -1             -1            0   \n",
       "1    1           -1               0            0             -1            0   \n",
       "2    1            0               1           -1             -1            0   \n",
       "3   -1           -1               1           -1              0            0   \n",
       "4   -1           -1               1           -1             -1            1   \n",
       "\n",
       "   URL_Length  age_of_domain  having_IP_Address  Result  \n",
       "0           1              1                  1       1  \n",
       "1          -1              1                  0       1  \n",
       "2           1              1                  0       0  \n",
       "3          -1              1                  0       1  \n",
       "4           0             -1                  0       1  "
      ]
     },
     "metadata": {},
     "output_type": "display_data"
    },
    {
     "name": "stdout",
     "output_type": "stream",
     "text": [
      "Number of legitimate websites: 548\n",
      "Number of suspicious websites: 102\n",
      "Number of phishing websites: 702\n"
     ]
    }
   ],
   "source": [
    "df = pd.read_csv('phishing_small.csv', sep=',')\n",
    "df.columns = ['SFH','popUpWindow','SSLfinal_State','Request_URL','URL_of_Anchor',\n",
    "              'web_traffic','URL_Length','age_of_domain','having_IP_Address','Result']\n",
    "\n",
    "display(df.head())\n",
    "\n",
    "print('Number of legitimate websites:', len(df[df['Result']==1]))\n",
    "print('Number of suspicious websites:', len(df[df['Result']==0]))\n",
    "print('Number of phishing websites:', len(df[df['Result']==-1]))"
   ]
  },
  {
   "cell_type": "markdown",
   "metadata": {},
   "source": [
    "## Preprocessing"
   ]
  },
  {
   "cell_type": "code",
   "execution_count": 14,
   "metadata": {},
   "outputs": [],
   "source": [
    "df = df[df['Result'] != 0] #Remove rows with Result = suspicious (0) --> not enough training data\n",
    "\n",
    "#downsample observations classified as phishing so they are equal to the number classified as legitimate\n",
    "legitimate = df[df['Result']==1]\n",
    "phishing = df[df['Result']==-1]\n",
    "phishing = phishing.sample(n=len(legitimate))\n",
    "\n",
    "#recombine and shuffle data\n",
    "df = pd.concat([legitimate, phishing],axis=0)\n",
    "df = df.sample(frac=1).reset_index(drop=True)\n",
    "\n",
    "features = df.iloc[:,:-1]\n",
    "labels = df['Result']\n",
    "\n",
    "X_train, X_test, y_train, y_test = train_test_split(features, labels, test_size= 0.25) #train on 75% of data, test on 25%"
   ]
  },
  {
   "cell_type": "markdown",
   "metadata": {},
   "source": [
    "## Model Evaluation Functions"
   ]
  },
  {
   "cell_type": "markdown",
   "metadata": {},
   "source": [
    "#### Confusion Matrices & Classification Report"
   ]
  },
  {
   "cell_type": "code",
   "execution_count": 15,
   "metadata": {},
   "outputs": [],
   "source": [
    "def cm2df(cm, labels): \n",
    "    \"\"\"converts a numpy array confusion matrix to a pandas dataframe, with class labels\"\"\"\n",
    "    df = pd.DataFrame()\n",
    "    # rows\n",
    "    for i, row_label in enumerate(labels):\n",
    "        rowdata={}\n",
    "        # columns\n",
    "        for j, col_label in enumerate(labels): \n",
    "            rowdata[col_label]=cm[i,j]\n",
    "        df = df.append(pd.DataFrame.from_dict({row_label:rowdata}, orient='index'))\n",
    "    return df[labels]\n",
    "\n",
    "def model_eval(y_test, y_pred):\n",
    "    \"\"\"prints out avg model accuracy, as well as a confusion matrix and a classification\n",
    "    report specific to each individual class\"\"\"\n",
    "    conf_mat = confusion_matrix(y_test, y_pred)\n",
    "    cm_as_df=cm2df(conf_mat,[0,1])\n",
    "    new_names = {0:'Phishing',1:'Legitimate'}\n",
    "    cm_as_df = cm_as_df.rename(index=new_names, \n",
    "                                 columns=new_names)\n",
    "    print('\\n')\n",
    "    print('CONFUSION MATRIX (predicted along top, actual along side): ')\n",
    "    display(cm_as_df)\n",
    "\n",
    "    print('\\n')\n",
    "    print(classification_report(y_test,y_pred,target_names=['Phishing', 'Legitimate']))"
   ]
  },
  {
   "cell_type": "markdown",
   "metadata": {},
   "source": [
    "#### Cross Validation"
   ]
  },
  {
   "cell_type": "code",
   "execution_count": 16,
   "metadata": {},
   "outputs": [],
   "source": [
    "def cross_validation(num_folds, model, features, labels):\n",
    "    metrics = ['precision_macro', 'recall_macro', \"f1_macro\"]\n",
    "    cv = cross_validate(model, features, labels, scoring=metrics, cv=num_folds)\n",
    "    print(\"Test data set average precision across 5 folds:\")\n",
    "    print(cv['test_precision_macro'])\n",
    "    print(\"\\nTest data set average recall across 5 folds:\")\n",
    "    print(cv['test_recall_macro'])\n",
    "    print(\"\\nTest data set average fscore across 5 folds:\")\n",
    "    print(cv['test_f1_macro'])\n",
    "\n",
    "    y_pred = cross_val_predict(CART, features, labels, cv=num_folds)\n",
    "    model_eval(labels, y_pred)"
   ]
  },
  {
   "cell_type": "markdown",
   "metadata": {},
   "source": [
    "#### ROC Curve"
   ]
  },
  {
   "cell_type": "code",
   "execution_count": 17,
   "metadata": {},
   "outputs": [],
   "source": [
    "def plot_roc_curve(model, X_test, y_test):\n",
    "    probabilities = model.predict_proba(X_test)[:,1]\n",
    "    auc = roc_auc_score(y_test, probabilities)\n",
    "    print('AUC: %.3f' % auc)\n",
    "\n",
    "    # calculate roc curve\n",
    "    fpr, tpr, thresholds = roc_curve(y_test, probabilities)\n",
    "    # plot no skill curve\n",
    "    plt.plot([0, 1], [0, 1], linestyle='--')\n",
    "    # plot the roc curve for the model\n",
    "    plt.plot(fpr, tpr, marker='.')\n",
    "    plt.xlabel('False Positive Rate')\n",
    "    plt.ylabel('True Positive Rate')\n",
    "    plt.title('ROC Curve')\n",
    "    plt.show()"
   ]
  },
  {
   "cell_type": "markdown",
   "metadata": {},
   "source": [
    "## Decision Tree Classifier"
   ]
  },
  {
   "cell_type": "code",
   "execution_count": 12,
   "metadata": {},
   "outputs": [
    {
     "name": "stdout",
     "output_type": "stream",
     "text": [
      "\n",
      "\n",
      "CONFUSION MATRIX (predicted along top, actual along side): \n"
     ]
    },
    {
     "data": {
      "text/html": [
       "<div>\n",
       "<style scoped>\n",
       "    .dataframe tbody tr th:only-of-type {\n",
       "        vertical-align: middle;\n",
       "    }\n",
       "\n",
       "    .dataframe tbody tr th {\n",
       "        vertical-align: top;\n",
       "    }\n",
       "\n",
       "    .dataframe thead th {\n",
       "        text-align: right;\n",
       "    }\n",
       "</style>\n",
       "<table border=\"1\" class=\"dataframe\">\n",
       "  <thead>\n",
       "    <tr style=\"text-align: right;\">\n",
       "      <th></th>\n",
       "      <th>Phishing</th>\n",
       "      <th>Legitimate</th>\n",
       "    </tr>\n",
       "  </thead>\n",
       "  <tbody>\n",
       "    <tr>\n",
       "      <th>Phishing</th>\n",
       "      <td>133</td>\n",
       "      <td>13</td>\n",
       "    </tr>\n",
       "    <tr>\n",
       "      <th>Legitimate</th>\n",
       "      <td>15</td>\n",
       "      <td>113</td>\n",
       "    </tr>\n",
       "  </tbody>\n",
       "</table>\n",
       "</div>"
      ],
      "text/plain": [
       "            Phishing  Legitimate\n",
       "Phishing         133          13\n",
       "Legitimate        15         113"
      ]
     },
     "metadata": {},
     "output_type": "display_data"
    },
    {
     "name": "stdout",
     "output_type": "stream",
     "text": [
      "\n",
      "\n",
      "             precision    recall  f1-score   support\n",
      "\n",
      "   Phishing       0.90      0.91      0.90       146\n",
      " Legitimate       0.90      0.88      0.89       128\n",
      "\n",
      "avg / total       0.90      0.90      0.90       274\n",
      "\n",
      "\n",
      "\n",
      "-------------------------------------------------------------------\n",
      "-------------------------------------------------------------------\n",
      "\n",
      "\n",
      "CROSS VALIDATION\n",
      "Test data set average precision across 5 folds:\n",
      "[0.85912059 0.91873552 0.8920756  0.91371457 0.91046797]\n",
      "\n",
      "Test data set average recall across 5 folds:\n",
      "[0.85909091 0.91818182 0.89090909 0.91284404 0.90825688]\n",
      "\n",
      "Test data set average fscore across 5 folds:\n",
      "[0.859088   0.91815476 0.89082789 0.91279816 0.90813316]\n",
      "\n",
      "\n",
      "CONFUSION MATRIX (predicted along top, actual along side): \n"
     ]
    },
    {
     "data": {
      "text/html": [
       "<div>\n",
       "<style scoped>\n",
       "    .dataframe tbody tr th:only-of-type {\n",
       "        vertical-align: middle;\n",
       "    }\n",
       "\n",
       "    .dataframe tbody tr th {\n",
       "        vertical-align: top;\n",
       "    }\n",
       "\n",
       "    .dataframe thead th {\n",
       "        text-align: right;\n",
       "    }\n",
       "</style>\n",
       "<table border=\"1\" class=\"dataframe\">\n",
       "  <thead>\n",
       "    <tr style=\"text-align: right;\">\n",
       "      <th></th>\n",
       "      <th>Phishing</th>\n",
       "      <th>Legitimate</th>\n",
       "    </tr>\n",
       "  </thead>\n",
       "  <tbody>\n",
       "    <tr>\n",
       "      <th>Phishing</th>\n",
       "      <td>499</td>\n",
       "      <td>49</td>\n",
       "    </tr>\n",
       "    <tr>\n",
       "      <th>Legitimate</th>\n",
       "      <td>61</td>\n",
       "      <td>487</td>\n",
       "    </tr>\n",
       "  </tbody>\n",
       "</table>\n",
       "</div>"
      ],
      "text/plain": [
       "            Phishing  Legitimate\n",
       "Phishing         499          49\n",
       "Legitimate        61         487"
      ]
     },
     "metadata": {},
     "output_type": "display_data"
    },
    {
     "name": "stdout",
     "output_type": "stream",
     "text": [
      "\n",
      "\n",
      "             precision    recall  f1-score   support\n",
      "\n",
      "   Phishing       0.89      0.91      0.90       548\n",
      " Legitimate       0.91      0.89      0.90       548\n",
      "\n",
      "avg / total       0.90      0.90      0.90      1096\n",
      "\n",
      "\n",
      "\n",
      "-------------------------------------------------------------------\n",
      "-------------------------------------------------------------------\n",
      "\n",
      "\n",
      "ROC CURVE\n",
      "AUC: 0.917\n"
     ]
    },
    {
     "data": {
      "image/png": "[encoded data removed]",
      "text/plain": [
       "<Figure size 432x288 with 1 Axes>"
      ]
     },
     "metadata": {},
     "output_type": "display_data"
    }
   ],
   "source": [
    "CART = DecisionTreeClassifier()\n",
    "CART.fit(X_train, y_train)\n",
    "y_pred = CART.predict(X_test)\n",
    "\n",
    "model_eval(y_test, y_pred)\n",
    "\n",
    "print('\\n')\n",
    "print('-------------------------------------------------------------------')\n",
    "print('-------------------------------------------------------------------')\n",
    "print('\\n')\n",
    "print('CROSS VALIDATION')\n",
    "cross_validation(5, CART, features, labels)\n",
    "print('\\n')\n",
    "print('-------------------------------------------------------------------')\n",
    "print('-------------------------------------------------------------------')\n",
    "print('\\n')\n",
    "print('ROC CURVE')\n",
    "plot_roc_curve(CART, X_test, y_test)"
   ]
  },
  {
   "cell_type": "markdown",
   "metadata": {},
   "source": [
    "## Random Forest"
   ]
  },
  {
   "cell_type": "code",
   "execution_count": 18,
   "metadata": {},
   "outputs": [
    {
     "name": "stdout",
     "output_type": "stream",
     "text": [
      "\n",
      "\n",
      "CONFUSION MATRIX (predicted along top, actual along side): \n"
     ]
    },
    {
     "data": {
      "text/html": [
       "<div>\n",
       "<style scoped>\n",
       "    .dataframe tbody tr th:only-of-type {\n",
       "        vertical-align: middle;\n",
       "    }\n",
       "\n",
       "    .dataframe tbody tr th {\n",
       "        vertical-align: top;\n",
       "    }\n",
       "\n",
       "    .dataframe thead th {\n",
       "        text-align: right;\n",
       "    }\n",
       "</style>\n",
       "<table border=\"1\" class=\"dataframe\">\n",
       "  <thead>\n",
       "    <tr style=\"text-align: right;\">\n",
       "      <th></th>\n",
       "      <th>Phishing</th>\n",
       "      <th>Legitimate</th>\n",
       "    </tr>\n",
       "  </thead>\n",
       "  <tbody>\n",
       "    <tr>\n",
       "      <th>Phishing</th>\n",
       "      <td>133</td>\n",
       "      <td>7</td>\n",
       "    </tr>\n",
       "    <tr>\n",
       "      <th>Legitimate</th>\n",
       "      <td>13</td>\n",
       "      <td>121</td>\n",
       "    </tr>\n",
       "  </tbody>\n",
       "</table>\n",
       "</div>"
      ],
      "text/plain": [
       "            Phishing  Legitimate\n",
       "Phishing         133           7\n",
       "Legitimate        13         121"
      ]
     },
     "metadata": {},
     "output_type": "display_data"
    },
    {
     "name": "stdout",
     "output_type": "stream",
     "text": [
      "\n",
      "\n",
      "             precision    recall  f1-score   support\n",
      "\n",
      "   Phishing       0.91      0.95      0.93       140\n",
      " Legitimate       0.95      0.90      0.92       134\n",
      "\n",
      "avg / total       0.93      0.93      0.93       274\n",
      "\n",
      "\n",
      "\n",
      "-------------------------------------------------------------------\n",
      "-------------------------------------------------------------------\n",
      "\n",
      "\n",
      "CROSS VALIDATION\n",
      "Test data set average precision across 5 folds:\n",
      "[0.92557617 0.93185387 0.88716356 0.90839438 0.92674918]\n",
      "\n",
      "Test data set average recall across 5 folds:\n",
      "[0.92272727 0.93181818 0.88636364 0.90825688 0.9266055 ]\n",
      "\n",
      "Test data set average fscore across 5 folds:\n",
      "[0.92259774 0.93181677 0.88630491 0.90824916 0.92659933]\n",
      "\n",
      "\n",
      "CONFUSION MATRIX (predicted along top, actual along side): \n"
     ]
    },
    {
     "data": {
      "text/html": [
       "<div>\n",
       "<style scoped>\n",
       "    .dataframe tbody tr th:only-of-type {\n",
       "        vertical-align: middle;\n",
       "    }\n",
       "\n",
       "    .dataframe tbody tr th {\n",
       "        vertical-align: top;\n",
       "    }\n",
       "\n",
       "    .dataframe thead th {\n",
       "        text-align: right;\n",
       "    }\n",
       "</style>\n",
       "<table border=\"1\" class=\"dataframe\">\n",
       "  <thead>\n",
       "    <tr style=\"text-align: right;\">\n",
       "      <th></th>\n",
       "      <th>Phishing</th>\n",
       "      <th>Legitimate</th>\n",
       "    </tr>\n",
       "  </thead>\n",
       "  <tbody>\n",
       "    <tr>\n",
       "      <th>Phishing</th>\n",
       "      <td>501</td>\n",
       "      <td>47</td>\n",
       "    </tr>\n",
       "    <tr>\n",
       "      <th>Legitimate</th>\n",
       "      <td>66</td>\n",
       "      <td>482</td>\n",
       "    </tr>\n",
       "  </tbody>\n",
       "</table>\n",
       "</div>"
      ],
      "text/plain": [
       "            Phishing  Legitimate\n",
       "Phishing         501          47\n",
       "Legitimate        66         482"
      ]
     },
     "metadata": {},
     "output_type": "display_data"
    },
    {
     "name": "stdout",
     "output_type": "stream",
     "text": [
      "\n",
      "\n",
      "             precision    recall  f1-score   support\n",
      "\n",
      "   Phishing       0.88      0.91      0.90       548\n",
      " Legitimate       0.91      0.88      0.90       548\n",
      "\n",
      "avg / total       0.90      0.90      0.90      1096\n",
      "\n",
      "\n",
      "\n",
      "-------------------------------------------------------------------\n",
      "-------------------------------------------------------------------\n",
      "\n",
      "\n",
      "ROC CURVE\n",
      "AUC: 0.979\n"
     ]
    },
    {
     "data": {
      "image/png": "[encoded data removed]",
      "text/plain": [
       "<Figure size 432x288 with 1 Axes>"
      ]
     },
     "metadata": {},
     "output_type": "display_data"
    }
   ],
   "source": [
    "RF = RandomForestClassifier()\n",
    "RF.fit(X_train, y_train)\n",
    "y_pred = RF.predict(X_test)\n",
    "\n",
    "model_eval(y_test, y_pred)\n",
    "\n",
    "print('\\n')\n",
    "print('-------------------------------------------------------------------')\n",
    "print('-------------------------------------------------------------------')\n",
    "print('\\n')\n",
    "print('CROSS VALIDATION')\n",
    "cross_validation(5, RF, features, labels)\n",
    "print('\\n')\n",
    "print('-------------------------------------------------------------------')\n",
    "print('-------------------------------------------------------------------')\n",
    "print('\\n')\n",
    "print('ROC CURVE')\n",
    "plot_roc_curve(RF, X_test, y_test)"
   ]
  },
  {
   "cell_type": "markdown",
   "metadata": {},
   "source": [
    "## K Nearest Neighbor"
   ]
  },
  {
   "cell_type": "code",
   "execution_count": 26,
   "metadata": {},
   "outputs": [
    {
     "name": "stdout",
     "output_type": "stream",
     "text": [
      "\n",
      "\n",
      "CONFUSION MATRIX (predicted along top, actual along side): \n"
     ]
    },
    {
     "data": {
      "text/html": [
       "<div>\n",
       "<style scoped>\n",
       "    .dataframe tbody tr th:only-of-type {\n",
       "        vertical-align: middle;\n",
       "    }\n",
       "\n",
       "    .dataframe tbody tr th {\n",
       "        vertical-align: top;\n",
       "    }\n",
       "\n",
       "    .dataframe thead th {\n",
       "        text-align: right;\n",
       "    }\n",
       "</style>\n",
       "<table border=\"1\" class=\"dataframe\">\n",
       "  <thead>\n",
       "    <tr style=\"text-align: right;\">\n",
       "      <th></th>\n",
       "      <th>Phishing</th>\n",
       "      <th>Legitimate</th>\n",
       "    </tr>\n",
       "  </thead>\n",
       "  <tbody>\n",
       "    <tr>\n",
       "      <th>Phishing</th>\n",
       "      <td>133</td>\n",
       "      <td>7</td>\n",
       "    </tr>\n",
       "    <tr>\n",
       "      <th>Legitimate</th>\n",
       "      <td>16</td>\n",
       "      <td>118</td>\n",
       "    </tr>\n",
       "  </tbody>\n",
       "</table>\n",
       "</div>"
      ],
      "text/plain": [
       "            Phishing  Legitimate\n",
       "Phishing         133           7\n",
       "Legitimate        16         118"
      ]
     },
     "metadata": {},
     "output_type": "display_data"
    },
    {
     "name": "stdout",
     "output_type": "stream",
     "text": [
      "\n",
      "\n",
      "             precision    recall  f1-score   support\n",
      "\n",
      "   Phishing       0.89      0.95      0.92       140\n",
      " Legitimate       0.94      0.88      0.91       134\n",
      "\n",
      "avg / total       0.92      0.92      0.92       274\n",
      "\n",
      "\n",
      "\n",
      "-------------------------------------------------------------------\n",
      "-------------------------------------------------------------------\n",
      "\n",
      "\n",
      "CROSS VALIDATION\n",
      "Test data set average precision across 5 folds:\n",
      "[0.94094553 0.94560185 0.90963257 0.89532726 0.91869987]\n",
      "\n",
      "Test data set average recall across 5 folds:\n",
      "[0.94090909 0.94545455 0.90909091 0.89449541 0.91743119]\n",
      "\n",
      "Test data set average fscore across 5 folds:\n",
      "[0.94090787 0.94545004 0.90906085 0.89443988 0.9173686 ]\n",
      "\n",
      "\n",
      "CONFUSION MATRIX (predicted along top, actual along side): \n"
     ]
    },
    {
     "data": {
      "text/html": [
       "<div>\n",
       "<style scoped>\n",
       "    .dataframe tbody tr th:only-of-type {\n",
       "        vertical-align: middle;\n",
       "    }\n",
       "\n",
       "    .dataframe tbody tr th {\n",
       "        vertical-align: top;\n",
       "    }\n",
       "\n",
       "    .dataframe thead th {\n",
       "        text-align: right;\n",
       "    }\n",
       "</style>\n",
       "<table border=\"1\" class=\"dataframe\">\n",
       "  <thead>\n",
       "    <tr style=\"text-align: right;\">\n",
       "      <th></th>\n",
       "      <th>Phishing</th>\n",
       "      <th>Legitimate</th>\n",
       "    </tr>\n",
       "  </thead>\n",
       "  <tbody>\n",
       "    <tr>\n",
       "      <th>Phishing</th>\n",
       "      <td>502</td>\n",
       "      <td>46</td>\n",
       "    </tr>\n",
       "    <tr>\n",
       "      <th>Legitimate</th>\n",
       "      <td>68</td>\n",
       "      <td>480</td>\n",
       "    </tr>\n",
       "  </tbody>\n",
       "</table>\n",
       "</div>"
      ],
      "text/plain": [
       "            Phishing  Legitimate\n",
       "Phishing         502          46\n",
       "Legitimate        68         480"
      ]
     },
     "metadata": {},
     "output_type": "display_data"
    },
    {
     "name": "stdout",
     "output_type": "stream",
     "text": [
      "\n",
      "\n",
      "             precision    recall  f1-score   support\n",
      "\n",
      "   Phishing       0.88      0.92      0.90       548\n",
      " Legitimate       0.91      0.88      0.89       548\n",
      "\n",
      "avg / total       0.90      0.90      0.90      1096\n",
      "\n",
      "\n",
      "\n",
      "-------------------------------------------------------------------\n",
      "-------------------------------------------------------------------\n",
      "\n",
      "\n",
      "ROC CURVE\n",
      "AUC: 0.976\n"
     ]
    },
    {
     "data": {
      "image/png": "[encoded data removed]",
      "text/plain": [
       "<Figure size 432x288 with 1 Axes>"
      ]
     },
     "metadata": {},
     "output_type": "display_data"
    }
   ],
   "source": [
    "KNN = KNeighborsClassifier(n_neighbors=6)\n",
    "KNN.fit(X_train, y_train)\n",
    "y_pred = KNN.predict(X_test)\n",
    "\n",
    "model_eval(y_test, y_pred)\n",
    "\n",
    "print('\\n')\n",
    "print('-------------------------------------------------------------------')\n",
    "print('-------------------------------------------------------------------')\n",
    "print('\\n')\n",
    "print('CROSS VALIDATION')\n",
    "cross_validation(5, KNN, features, labels)\n",
    "print('\\n')\n",
    "print('-------------------------------------------------------------------')\n",
    "print('-------------------------------------------------------------------')\n",
    "print('\\n')\n",
    "print('ROC CURVE')\n",
    "plot_roc_curve(KNN, X_test, y_test)"
   ]
  },
  {
   "cell_type": "markdown",
   "metadata": {},
   "source": [
    "## Logistic Regression"
   ]
  },
  {
   "cell_type": "code",
   "execution_count": 27,
   "metadata": {},
   "outputs": [
    {
     "name": "stdout",
     "output_type": "stream",
     "text": [
      "\n",
      "\n",
      "CONFUSION MATRIX (predicted along top, actual along side): \n"
     ]
    },
    {
     "data": {
      "text/html": [
       "<div>\n",
       "<style scoped>\n",
       "    .dataframe tbody tr th:only-of-type {\n",
       "        vertical-align: middle;\n",
       "    }\n",
       "\n",
       "    .dataframe tbody tr th {\n",
       "        vertical-align: top;\n",
       "    }\n",
       "\n",
       "    .dataframe thead th {\n",
       "        text-align: right;\n",
       "    }\n",
       "</style>\n",
       "<table border=\"1\" class=\"dataframe\">\n",
       "  <thead>\n",
       "    <tr style=\"text-align: right;\">\n",
       "      <th></th>\n",
       "      <th>Phishing</th>\n",
       "      <th>Legitimate</th>\n",
       "    </tr>\n",
       "  </thead>\n",
       "  <tbody>\n",
       "    <tr>\n",
       "      <th>Phishing</th>\n",
       "      <td>134</td>\n",
       "      <td>6</td>\n",
       "    </tr>\n",
       "    <tr>\n",
       "      <th>Legitimate</th>\n",
       "      <td>13</td>\n",
       "      <td>121</td>\n",
       "    </tr>\n",
       "  </tbody>\n",
       "</table>\n",
       "</div>"
      ],
      "text/plain": [
       "            Phishing  Legitimate\n",
       "Phishing         134           6\n",
       "Legitimate        13         121"
      ]
     },
     "metadata": {},
     "output_type": "display_data"
    },
    {
     "name": "stdout",
     "output_type": "stream",
     "text": [
      "\n",
      "\n",
      "             precision    recall  f1-score   support\n",
      "\n",
      "   Phishing       0.91      0.96      0.93       140\n",
      " Legitimate       0.95      0.90      0.93       134\n",
      "\n",
      "avg / total       0.93      0.93      0.93       274\n",
      "\n",
      "\n",
      "\n",
      "-------------------------------------------------------------------\n",
      "-------------------------------------------------------------------\n",
      "\n",
      "\n",
      "CROSS VALIDATION\n",
      "Test data set average precision across 5 folds:\n",
      "[0.92166667 0.92304193 0.90457889 0.88124737 0.91869987]\n",
      "\n",
      "Test data set average recall across 5 folds:\n",
      "[0.91818182 0.92272727 0.90454545 0.88073394 0.91743119]\n",
      "\n",
      "Test data set average fscore across 5 folds:\n",
      "[0.91801242 0.9227129  0.90454348 0.88069378 0.9173686 ]\n",
      "\n",
      "\n",
      "CONFUSION MATRIX (predicted along top, actual along side): \n"
     ]
    },
    {
     "data": {
      "text/html": [
       "<div>\n",
       "<style scoped>\n",
       "    .dataframe tbody tr th:only-of-type {\n",
       "        vertical-align: middle;\n",
       "    }\n",
       "\n",
       "    .dataframe tbody tr th {\n",
       "        vertical-align: top;\n",
       "    }\n",
       "\n",
       "    .dataframe thead th {\n",
       "        text-align: right;\n",
       "    }\n",
       "</style>\n",
       "<table border=\"1\" class=\"dataframe\">\n",
       "  <thead>\n",
       "    <tr style=\"text-align: right;\">\n",
       "      <th></th>\n",
       "      <th>Phishing</th>\n",
       "      <th>Legitimate</th>\n",
       "    </tr>\n",
       "  </thead>\n",
       "  <tbody>\n",
       "    <tr>\n",
       "      <th>Phishing</th>\n",
       "      <td>499</td>\n",
       "      <td>49</td>\n",
       "    </tr>\n",
       "    <tr>\n",
       "      <th>Legitimate</th>\n",
       "      <td>64</td>\n",
       "      <td>484</td>\n",
       "    </tr>\n",
       "  </tbody>\n",
       "</table>\n",
       "</div>"
      ],
      "text/plain": [
       "            Phishing  Legitimate\n",
       "Phishing         499          49\n",
       "Legitimate        64         484"
      ]
     },
     "metadata": {},
     "output_type": "display_data"
    },
    {
     "name": "stdout",
     "output_type": "stream",
     "text": [
      "\n",
      "\n",
      "             precision    recall  f1-score   support\n",
      "\n",
      "   Phishing       0.89      0.91      0.90       548\n",
      " Legitimate       0.91      0.88      0.90       548\n",
      "\n",
      "avg / total       0.90      0.90      0.90      1096\n",
      "\n",
      "\n",
      "\n",
      "-------------------------------------------------------------------\n",
      "-------------------------------------------------------------------\n",
      "\n",
      "\n",
      "ROC CURVE\n",
      "AUC: 0.982\n"
     ]
    },
    {
     "data": {
      "image/png": "[encoded data removed]",
      "text/plain": [
       "<Figure size 432x288 with 1 Axes>"
      ]
     },
     "metadata": {},
     "output_type": "display_data"
    }
   ],
   "source": [
    "logreg = LogisticRegression()\n",
    "logreg.fit(X_train, y_train)\n",
    "y_pred = logreg.predict(X_test)\n",
    "\n",
    "model_eval(y_test, y_pred)\n",
    "\n",
    "print('\\n')\n",
    "print('-------------------------------------------------------------------')\n",
    "print('-------------------------------------------------------------------')\n",
    "print('\\n')\n",
    "print('CROSS VALIDATION')\n",
    "cross_validation(5, logreg, features, labels)\n",
    "print('\\n')\n",
    "print('-------------------------------------------------------------------')\n",
    "print('-------------------------------------------------------------------')\n",
    "print('\\n')\n",
    "print('ROC CURVE')\n",
    "plot_roc_curve(logreg, X_test, y_test)"
   ]
  }
 ],
 "metadata": {
  "kernelspec": {
   "display_name": "Python 3",
   "language": "python",
   "name": "python3"
  },
  "language_info": {
   "codemirror_mode": {
    "name": "ipython",
    "version": 3
   },
   "file_extension": ".py",
   "mimetype": "text/x-python",
   "name": "python",
   "nbconvert_exporter": "python",
   "pygments_lexer": "ipython3",
   "version": "3.6.5"
  }
 },
 "nbformat": 4,
 "nbformat_minor": 2
}
